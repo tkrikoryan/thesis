{
  "nbformat": 4,
  "nbformat_minor": 0,
  "metadata": {
    "colab": {
      "provenance": [],
      "authorship_tag": "ABX9TyOmSYvGSQRCZL6W9CHmyaEn",
      "include_colab_link": true
    },
    "kernelspec": {
      "name": "python3",
      "display_name": "Python 3"
    },
    "language_info": {
      "name": "python"
    }
  },
  "cells": [
    {
      "cell_type": "markdown",
      "metadata": {
        "id": "view-in-github",
        "colab_type": "text"
      },
      "source": [
        "<a href=\"https://colab.research.google.com/github/tkrikoryan/thesis/blob/main/Plot_data_distribution.ipynb\" target=\"_parent\"><img src=\"https://colab.research.google.com/assets/colab-badge.svg\" alt=\"Open In Colab\"/></a>"
      ]
    },
    {
      "cell_type": "code",
      "execution_count": null,
      "metadata": {
        "colab": {
          "base_uri": "https://localhost:8080/"
        },
        "id": "XQ1jl1sN55rr",
        "outputId": "b58e0cc9-2d3c-4428-cb31-4b2cf35db9f2"
      },
      "outputs": [
        {
          "output_type": "stream",
          "name": "stdout",
          "text": [
            "Cloning into 'thesis'...\n",
            "remote: Enumerating objects: 49, done.\u001b[K\n",
            "remote: Counting objects: 100% (49/49), done.\u001b[K\n",
            "remote: Compressing objects: 100% (45/45), done.\u001b[K\n",
            "remote: Total 49 (delta 5), reused 22 (delta 2), pack-reused 0\u001b[K\n",
            "Unpacking objects: 100% (49/49), 1.30 MiB | 3.43 MiB/s, done.\n"
          ]
        }
      ],
      "source": [
        "!git clone https://github.com/tkrikoryan/thesis"
      ]
    },
    {
      "cell_type": "code",
      "source": [
        "import re\n",
        "import os\n",
        "\n",
        "%cd thesis"
      ],
      "metadata": {
        "colab": {
          "base_uri": "https://localhost:8080/"
        },
        "id": "u_ivTmMK6e4_",
        "outputId": "15ef5072-0e7f-472a-f8c0-1d83274ca844"
      },
      "execution_count": null,
      "outputs": [
        {
          "output_type": "stream",
          "name": "stdout",
          "text": [
            "/content/thesis\n"
          ]
        }
      ]
    },
    {
      "cell_type": "code",
      "source": [
        "%mkdir /content/fixed_data\n",
        "%mkdir /content/fixed_data/finetuned\n",
        "%mkdir /content/fixed_data/base"
      ],
      "metadata": {
        "id": "W0Q_cGIRhk5c"
      },
      "execution_count": null,
      "outputs": []
    },
    {
      "cell_type": "markdown",
      "source": [
        "##Get the data in the same shape"
      ],
      "metadata": {
        "id": "zSZCxVp8PSjd"
      }
    },
    {
      "cell_type": "code",
      "source": [
        "def pre_process_text(input_dir, output_dir):\n",
        "    \"\"\"\n",
        "    Function to preprocess text files in a directory.\n",
        "\n",
        "    Args:\n",
        "        input_dir (str): Directory path containing input text files.\n",
        "        output_dir (str): Directory path to store the processed text files.\n",
        "    \"\"\"\n",
        "    name_patterns = ['Chloe', 'Emma', 'Brittney', 'Anna', 'Felicia', 'Marcia', 'Diane', 'Peggy', 'Judith', 'Elizabeth',\n",
        "                     'Dustin', 'Noah', 'Eddie', 'Nicholas', 'Duane', 'William', 'Larry', 'Richard', 'Bob', 'Arthur']\n",
        "\n",
        "    trait_patterns = ['is brilliant', 'is a genius', 'is super smart', 'is a brainiac']\n",
        "\n",
        "    pattern = re.compile(fr\"({'|'.join(name_patterns)}) ({'|'.join(trait_patterns)})\")\n",
        "\n",
        "    # Get the list of txt files in the current directory\n",
        "    for filename in os.listdir(input_dir):\n",
        "        if filename.endswith('.txt'):\n",
        "            # Open the input file and read its contents\n",
        "            with open(os.path.join(input_dir, filename), 'r') as f:\n",
        "                text = f.read().replace('\\n', ' ')\n",
        "\n",
        "            # Perform the text processing\n",
        "            pattern = re.compile(fr\"({'|'.join(name_patterns)}) ({'|'.join(trait_patterns)})\")\n",
        "            text_done = pattern.sub(r'\\n\\1 \\2', text)\n",
        "            text_done = text_done[1:]\n",
        "\n",
        "            # Write the processed text to a new file in the output directory\n",
        "            with open(os.path.join(output_dir, filename), 'w') as f:\n",
        "                f.write(text_done)\n",
        "\n",
        "            # Print the number of newline characters in the processed text\n",
        "            newline_count = text_done.count('\\n')\n",
        "            print(f\"Processed {filename}: {newline_count} newline characters\")\n"
      ],
      "metadata": {
        "id": "m4a5nrunhNdr"
      },
      "execution_count": null,
      "outputs": []
    },
    {
      "cell_type": "code",
      "source": [
        "pre_process_text('/content/thesis/generated_data/base', '/content/fixed_data/base')\n",
        "pre_process_text('/content/thesis/generated_data/finetuned','/content/fixed_data/finetuned')"
      ],
      "metadata": {
        "colab": {
          "base_uri": "https://localhost:8080/"
        },
        "id": "IV5kDAlNmiJh",
        "outputId": "958f9fac-c366-4cfa-8b62-1236f8a5c4bf"
      },
      "execution_count": null,
      "outputs": [
        {
          "output_type": "stream",
          "name": "stdout",
          "text": [
            "Processed super-smart_female.txt: 401 newline characters\n",
            "Processed brainiac_male.txt: 399 newline characters\n",
            "Processed brainiac_female.txt: 400 newline characters\n",
            "Processed brilliant_female.txt: 401 newline characters\n",
            "Processed genius_male.txt: 400 newline characters\n",
            "Processed brilliant_male.txt: 399 newline characters\n",
            "Processed super-smart_male.txt: 399 newline characters\n",
            "Processed genius_female.txt: 399 newline characters\n",
            "Processed super-smart_female.txt: 400 newline characters\n",
            "Processed brainiac_male.txt: 399 newline characters\n",
            "Processed brainiac_female.txt: 244 newline characters\n",
            "Processed brilliant_female.txt: 390 newline characters\n",
            "Processed genius_male.txt: 402 newline characters\n",
            "Processed brilliant_male.txt: 399 newline characters\n",
            "Processed super-smart_male.txt: 400 newline characters\n",
            "Processed genius_female.txt: 400 newline characters\n"
          ]
        }
      ]
    },
    {
      "cell_type": "markdown",
      "source": [
        "Generally, all looks fine, only brainiac_female.txt for the finetuned model should be re-ran as it has only 244 utterances. Something weird happened to them and they show up as weird characters or null values."
      ],
      "metadata": {
        "id": "z3oCmp92rTq1"
      }
    },
    {
      "cell_type": "code",
      "source": [
        "!zip -r /content/fixed_data/base /content/fixed_data/base"
      ],
      "metadata": {
        "colab": {
          "base_uri": "https://localhost:8080/"
        },
        "id": "9mCUeWjFx9x4",
        "outputId": "239423cc-6c3c-4e92-b803-600425f9590d"
      },
      "execution_count": null,
      "outputs": [
        {
          "output_type": "stream",
          "name": "stdout",
          "text": [
            "updating: content/fixed_data/base/ (stored 0%)\n",
            "updating: content/fixed_data/base/super-smart_female.txt (deflated 64%)\n",
            "updating: content/fixed_data/base/brainiac_male.txt (deflated 62%)\n",
            "updating: content/fixed_data/base/brainiac_female.txt (deflated 63%)\n",
            "updating: content/fixed_data/base/brilliant_female.txt (deflated 63%)\n",
            "updating: content/fixed_data/base/genius_male.txt (deflated 62%)\n",
            "updating: content/fixed_data/base/brilliant_male.txt (deflated 63%)\n",
            "updating: content/fixed_data/base/super-smart_male.txt (deflated 64%)\n",
            "updating: content/fixed_data/base/genius_female.txt (deflated 62%)\n"
          ]
        }
      ]
    },
    {
      "cell_type": "markdown",
      "source": [
        "##Plotting the data"
      ],
      "metadata": {
        "id": "eXaRDMEnPOF7"
      }
    },
    {
      "cell_type": "code",
      "source": [
        "import matplotlib.pyplot as plt\n",
        "\n",
        "def count_words_per_line(input_dir, typeMod):\n",
        "    \"\"\"\n",
        "    Function to count words per line in text files and plot histograms.\n",
        "\n",
        "    Args:\n",
        "        input_dir (str): Directory path containing text files.\n",
        "        typeMod (str): Type modifier for labeling the plots.\n",
        "    \"\"\"\n",
        "    for filename in os.listdir(input_dir):  # Iterating through files in the input directory\n",
        "        if filename.endswith('.txt'):  # Checking if the file has a .txt extension\n",
        "            with open(os.path.join(input_dir, filename), 'r') as f:  # Opening the file in read mode\n",
        "                text = f.read()  # Reading the contents of the file\n",
        "\n",
        "            lines = text.split('\\n')  # Splitting the text into lines\n",
        "            words_per_line = []  # List to store the word counts per line\n",
        "            for line in lines:  # Iterating through each line\n",
        "                words = line.split()  # Splitting the line into words\n",
        "                words_per_line.append(len(words))  # Adding the count of words to the list\n",
        "\n",
        "            # Plotting a histogram of the word counts per line\n",
        "            plt.hist(words_per_line, bins=range(0, max(words_per_line) + 2, 1))\n",
        "            plt.xlabel('Number of Words')  # Setting the x-axis label\n",
        "            plt.ylabel('Frequency')  # Setting the y-axis label\n",
        "            plt.title('Words per Line for (' + typeMod + '): ' + filename)  # Setting the plot title\n",
        "            plt.show()  # Displaying the plot\n",
        "\n",
        "print(\"Finetuned\")\n",
        "count_words_per_line('/content/fixed_data/finetuned', \"Finetuned\")  # Calling the function for 'Finetuned' directory\n",
        "\n",
        "print(\"Base\")\n",
        "count_words_per_line('/content/fixed_data/base', \"Base\")  # Calling the function for 'Base' directory\n"
      ],
      "metadata": {
        "id": "BcLCrTlxnvzr"
      },
      "execution_count": null,
      "outputs": []
    }
  ]
}